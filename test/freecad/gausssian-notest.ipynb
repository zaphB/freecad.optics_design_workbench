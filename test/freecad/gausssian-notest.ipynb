{
 "cells": [
  {
   "cell_type": "code",
   "execution_count": null,
   "metadata": {},
   "outputs": [],
   "source": [
    "from numpy import *\n",
    "from matplotlib.pyplot import *\n",
    "import scipy\n",
    "import pickle\n",
    "import os"
   ]
  },
  {
   "cell_type": "code",
   "execution_count": null,
   "metadata": {},
   "outputs": [],
   "source": [
    "r = 'gaussian.OpticsDesign/raw'\n",
    "#r = 'replay.OpticsDesign/raw'\n",
    "run = [f for f in sorted(os.listdir(r)) if os.path.isdir(r+'/'+f)][-1]\n",
    "p = r+'/'+run\n",
    "folder = f'{p}/source-OpticalPointSource/object-OpticalAbsorberGroup'\n",
    "#folder = f'{p}/source-OpticalReplaySource/object-OpticalAbsorberGroup'"
   ]
  },
  {
   "cell_type": "code",
   "execution_count": null,
   "metadata": {},
   "outputs": [],
   "source": [
    "folder"
   ]
  },
  {
   "cell_type": "code",
   "execution_count": null,
   "metadata": {},
   "outputs": [],
   "source": [
    "%ls {r}"
   ]
  },
  {
   "cell_type": "code",
   "execution_count": null,
   "metadata": {},
   "outputs": [],
   "source": [
    "results = []\n",
    "for f in os.listdir(folder):\n",
    "  with open(folder+'/'+f, 'rb') as _f:\n",
    "    results.append(pickle.load(_f))"
   ]
  },
  {
   "cell_type": "code",
   "execution_count": null,
   "metadata": {},
   "outputs": [],
   "source": [
    "results[0].keys()"
   ]
  },
  {
   "cell_type": "code",
   "execution_count": null,
   "metadata": {},
   "outputs": [],
   "source": [
    "points = concatenate([r['points'] for r in results])"
   ]
  },
  {
   "cell_type": "code",
   "execution_count": null,
   "metadata": {},
   "outputs": [],
   "source": [
    "Hs, Xs, Ys, _ = hist2d(points[:,0], points[:,1], bins=40)#, norm='log')\n",
    "savefig(f'gaussian-histogram.png')"
   ]
  },
  {
   "cell_type": "code",
   "execution_count": null,
   "metadata": {},
   "outputs": [],
   "source": [
    "gaussian = lambda X, A, s, x0: A*exp(-(X-x0)**2/s**2)"
   ]
  },
  {
   "cell_type": "code",
   "execution_count": null,
   "metadata": {},
   "outputs": [],
   "source": [
    "distance = 100\n",
    "thetaSigma = sqrt(1e-4)"
   ]
  },
  {
   "cell_type": "code",
   "execution_count": null,
   "metadata": {},
   "outputs": [],
   "source": [
    "for i, (X, Y) in enumerate(\n",
    "            [ ( (Xs[1:]+Xs[:-1])/2, Hs[argmin(abs(Ys)),:] ),\n",
    "              ( (Ys[1:]+Ys[:-1])/2, Hs[:,argmin(abs(Xs))] ) ]):\n",
    "  figure(figsize=(5,2.5))\n",
    "  plot(X, Y, 'x')\n",
    "  popt, _ = scipy.optimize.curve_fit(gaussian, X, Y, p0=(max(Y), 10, 0))\n",
    "  Xlin = linspace(min(X), max(X), 300)\n",
    "  Ylin = gaussian(Xlin, *popt)\n",
    "  plot(Xlin, Ylin)\n",
    "  plot(Xlin, gaussian(Xlin, max(Y), distance*thetaSigma, 0))\n",
    "  print(f'found sigma: {abs(popt[1]):.3f}, theoretical sigma: {distance*thetaSigma:.3f}')\n",
    "  print(f'found center: {abs(popt[-1]):.3f}')\n",
    "  savefig(f'gaussian-histogram-{\"xy\"[i]}.png')"
   ]
  },
  {
   "cell_type": "code",
   "execution_count": null,
   "metadata": {},
   "outputs": [],
   "source": []
  },
  {
   "cell_type": "code",
   "execution_count": null,
   "metadata": {},
   "outputs": [],
   "source": []
  }
 ],
 "metadata": {},
 "nbformat": 4,
 "nbformat_minor": 4
}