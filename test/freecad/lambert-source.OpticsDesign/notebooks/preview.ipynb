{
 "cells": [
  {
   "cell_type": "code",
   "execution_count": null,
   "metadata": {},
   "outputs": [],
   "source": [
    "from optics_design_workbench.jupyter_utils import *"
   ]
  },
  {
   "cell_type": "code",
   "execution_count": null,
   "metadata": {},
   "outputs": [],
   "source": [
    "hClosest = latestRawFolder().loadHits('**/*ClosestDetector')\n",
    "hClose = latestRawFolder().loadHits('**/*CloseDetector')\n",
    "hFar = latestRawFolder().loadHits('**/*FarDetector')"
   ]
  },
  {
   "cell_type": "code",
   "execution_count": null,
   "metadata": {},
   "outputs": [],
   "source": [
    "figure(figsize=(7,7))\n",
    "hClosest.histogram(bins=1000).plot()\n",
    "xlim(-3, 3)\n",
    "ylim(-5, 5)"
   ]
  },
  {
   "cell_type": "code",
   "execution_count": null,
   "metadata": {},
   "outputs": [],
   "source": [
    "figure(figsize=(7,7))\n",
    "hClose.histogram(bins=1000).plot()\n",
    "xlim(-3, 3)\n",
    "ylim(-5, 5)"
   ]
  },
  {
   "cell_type": "code",
   "execution_count": null,
   "metadata": {},
   "outputs": [],
   "source": [
    "figure(figsize=(7,7))\n",
    "hFar.histogram(bins=500).plot()\n",
    "xlim(-100, 100)\n",
    "ylim(-100, 100)"
   ]
  },
  {
   "cell_type": "code",
   "execution_count": null,
   "metadata": {},
   "outputs": [],
   "source": [
    "h = hFar.histogram(bins=500)"
   ]
  },
  {
   "cell_type": "code",
   "execution_count": null,
   "metadata": {},
   "outputs": [],
   "source": [
    "H = h.hist\n",
    "plot(h.binX[:-1], H[len(H)//2,:], label='x-section')\n",
    "plot(h.binY[:-1], H[:,len(H)//2], label='y-section')\n",
    "X = linspace(-80, 80, 500)\n",
    "Y = cos(X/32)**2\n",
    "plot(X, Y*quantile(h.hist, .9999), label='cos^2')\n",
    "xlim(-100, 100)\n",
    "xlabel('x position')\n",
    "ylabel('histogram counts')\n",
    "legend()"
   ]
  },
  {
   "cell_type": "code",
   "execution_count": null,
   "metadata": {},
   "outputs": [],
   "source": [
    "\n"
   ]
  }
 ],
 "metadata": {},
 "nbformat": 4,
 "nbformat_minor": 4
}