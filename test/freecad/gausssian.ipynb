{
 "cells": [
  {
   "cell_type": "code",
   "execution_count": null,
   "metadata": {},
   "outputs": [],
   "source": [
    "from pbrlib.full import *\n",
    "import pickle"
   ]
  },
  {
   "cell_type": "code",
   "execution_count": null,
   "metadata": {},
   "outputs": [],
   "source": [
    "r = 'gaussian.opticalSimulationResults'\n",
    "run = sorted(os.listdir(r))[-1]\n",
    "p = r+'/'+run\n",
    "folder = f'{p}/true/lightsource-PointSource/hitObject-OpticalAbsorberGroup'"
   ]
  },
  {
   "cell_type": "code",
   "execution_count": null,
   "metadata": {},
   "outputs": [],
   "source": [
    "results = []\n",
    "for f in os.listdir(folder):\n",
    "  with open(folder+'/'+f, 'rb') as _f:\n",
    "    results.append(pickle.load(_f))"
   ]
  },
  {
   "cell_type": "code",
   "execution_count": null,
   "metadata": {},
   "outputs": [],
   "source": [
    "points = concatenate([r['points'] for r in results])[:,:2]"
   ]
  },
  {
   "cell_type": "code",
   "execution_count": null,
   "metadata": {},
   "outputs": [],
   "source": [
    "Hs, Xs, Ys, _ = hist2d(points[:,0], points[:,1], bins=100)\n",
    "savefig(f'gaussian-histogram-N{points.shape[0]}.png')"
   ]
  },
  {
   "cell_type": "code",
   "execution_count": null,
   "metadata": {},
   "outputs": [],
   "source": [
    "gaussian = lambda X, A, s, x0: A*exp(-(X-x0)**2/s**2)"
   ]
  },
  {
   "cell_type": "code",
   "execution_count": null,
   "metadata": {},
   "outputs": [],
   "source": [
    "distance = 100\n",
    "thetaSigma = sqrt(1e-4)"
   ]
  },
  {
   "cell_type": "code",
   "execution_count": null,
   "metadata": {},
   "outputs": [],
   "source": [
    "for i, (X, Y) in enumerate(\n",
    "            [ ( (Xs[1:]+Xs[:-1])/2, Hs[argmin(abs(Ys)),:] ),\n",
    "              ( (Ys[1:]+Ys[:-1])/2, Hs[:,argmin(abs(Xs))] ) ]):\n",
    "  \n",
    "  io.plotXY(X, Y, marker='x')\n",
    "  popt, _ = scipy.optimize.curve_fit(gaussian, X, Y, p0=(max(Y), 10, 0))\n",
    "  Xlin = linspace(min(X), max(X), 300)\n",
    "  Ylin = gaussian(Xlin, *popt)\n",
    "  plot(Xlin, Ylin)\n",
    "  plot(Xlin, gaussian(Xlin, max(Y), distance*thetaSigma, 0))\n",
    "  print(f'found sigma: {abs(popt[1]):.3f}, theoretical sigma: {distance*thetaSigma:.3f}')\n",
    "  savefig(f'gaussian-histogram-{\"xy\"[i]}-N{points.shape[0]}.png')"
   ]
  },
  {
   "cell_type": "code",
   "execution_count": null,
   "metadata": {},
   "outputs": [],
   "source": []
  }
 ],
 "metadata": {},
 "nbformat": 4,
 "nbformat_minor": 2
}