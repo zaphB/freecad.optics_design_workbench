{
 "cells": [
  {
   "cell_type": "code",
   "execution_count": null,
   "metadata": {},
   "outputs": [],
   "source": [
    "from matplotlib.pyplot import *\n",
    "from numpy import *\n",
    "import numpy.random as npr\n",
    "rcParams['text.usetex'] = True"
   ]
  },
  {
   "cell_type": "code",
   "execution_count": null,
   "metadata": {},
   "outputs": [],
   "source": [
    "from freecad.optics_design_workbench import distributions\n",
    "from freecad.optics_design_workbench.distributions import *"
   ]
  },
  {
   "cell_type": "markdown",
   "metadata": {},
   "source": [
    "# Test 1D point generators for given densities (ray fans)"
   ]
  },
  {
   "cell_type": "code",
   "execution_count": null,
   "metadata": {},
   "outputs": [],
   "source": [
    "Xrand = npr.normal(5, 1, size=150)\n",
    "hX, hDensity = calcHistDensity(Xrand)\n",
    "dX, dDensity = calcDiffDensity(Xrand)\n",
    "plot(hX, hDensity, '.')\n",
    "plot(dX, dDensity, '.')\n",
    "xlabel('x')\n",
    "ylabel('density')"
   ]
  },
  {
   "cell_type": "markdown",
   "metadata": {},
   "source": [
    "### Gaussian"
   ]
  },
  {
   "cell_type": "code",
   "execution_count": null,
   "metadata": {},
   "outputs": [],
   "source": [
    "X = linspace(-1, 2, 500)\n",
    "Y = exp(-5*X**2)\n",
    "Xgen = generatePointsWithGivenDensity1D(density=(X,Y), N=20)\n",
    "dX, dDens = calcDiffDensity(Xgen)"
   ]
  },
  {
   "cell_type": "code",
   "execution_count": null,
   "metadata": {},
   "outputs": [],
   "source": [
    "plot(X, Y/max(Y), label=r'beliebige Verteilungsfunktion\\\\als X,Y arrays angegeben')\n",
    "xlabel('x')\n",
    "ylabel('normierte Dichte')\n",
    "plot(Xgen, [0]*len(Xgen), 'o', label=r'platzierte Punkte')\n",
    "plot(dX, dDens/max(dDens), 'x', label=r'aus den Punktabst\\\"anden\\\\bestimmte Dichte')\n",
    "legend()\n",
    "#io.savefig('~/Desktop/gaussian-platzierung.jpg')"
   ]
  },
  {
   "cell_type": "code",
   "execution_count": null,
   "metadata": {},
   "outputs": [],
   "source": [
    "rmsErr = sqrt(mean([abs((Y/max(Y))[argmin(abs(X-x))]-y)**2 for x,y in zip(dX, dDens/max(dDens))]))\n",
    "print(rmsErr)\n",
    "assert rmsErr < 1e-2"
   ]
  },
  {
   "cell_type": "markdown",
   "metadata": {},
   "source": [
    "### Tophat"
   ]
  },
  {
   "cell_type": "code",
   "execution_count": null,
   "metadata": {},
   "outputs": [],
   "source": [
    "X = linspace(-1, 2, 500)\n",
    "Y = arctan( 1e5 * ( exp(-5*X**2) - .5 ) )/pi + .5\n",
    "Xgen = generatePointsWithGivenDensity1D(density=(X,Y), N=10)\n",
    "dX, dDens = calcDiffDensity(Xgen)"
   ]
  },
  {
   "cell_type": "code",
   "execution_count": null,
   "metadata": {},
   "outputs": [],
   "source": [
    "plot(X, Y/max(Y), label=r'given density')\n",
    "xlabel('x')\n",
    "ylabel('normalized density')\n",
    "plot(Xgen, [0]*len(Xgen), 'o', label=r'generated points')\n",
    "plot(dX, dDens/max(dDens), 'x', label=r'\\parbox{4cm}{density reconstructed from point-distance}')\n",
    "legend()"
   ]
  },
  {
   "cell_type": "code",
   "execution_count": null,
   "metadata": {},
   "outputs": [],
   "source": [
    "rmsErr = sqrt(mean([abs((Y/max(Y))[argmin(abs(X-x))]-y)**2 for x,y in zip(dX, dDens/max(dDens))]))\n",
    "print(rmsErr)\n",
    "assert rmsErr < 1e-5"
   ]
  },
  {
   "cell_type": "markdown",
   "metadata": {},
   "source": [
    "### tests distorted gaussian"
   ]
  },
  {
   "cell_type": "code",
   "execution_count": null,
   "metadata": {},
   "outputs": [],
   "source": [
    "X = linspace(-1, 3, 500)\n",
    "Y = arctan( 20*exp(-5*X**2) ) * (1+X)\n",
    "Xgen = generatePointsWithGivenDensity1D(density=(X,Y), N=25)\n",
    "dX, dDens = calcDiffDensity(Xgen)"
   ]
  },
  {
   "cell_type": "code",
   "execution_count": null,
   "metadata": {},
   "outputs": [],
   "source": [
    "plot(X, Y/max(Y), label=r'given density')\n",
    "xlabel('x')\n",
    "ylabel('normalized density')\n",
    "plot(Xgen, [0]*len(Xgen), 'o', label=r'generated points')\n",
    "plot(dX, dDens/max(dDens), 'x', label=r'\\parbox{4cm}{density reconstructed from point-distance}')\n",
    "legend()"
   ]
  },
  {
   "cell_type": "code",
   "execution_count": null,
   "metadata": {},
   "outputs": [],
   "source": [
    "rmsErr = sqrt(mean([abs((Y/max(Y))[argmin(abs(X-x))]-y)**2 for x,y in zip(dX, dDens/max(dDens))]))\n",
    "print(rmsErr)\n",
    "assert rmsErr < 1e-2"
   ]
  },
  {
   "cell_type": "markdown",
   "metadata": {},
   "source": [
    "### Test distribution with multiple maxima"
   ]
  },
  {
   "cell_type": "code",
   "execution_count": null,
   "metadata": {},
   "outputs": [],
   "source": [
    "X = linspace(-1, 5, 500)\n",
    "Y = exp(-5*X**2) + 0.7*exp(-5*(X-2)**2) \n",
    "Xgen = generatePointsWithGivenDensity1D(density=(X,Y), N=30)\n",
    "dX, dDens = calcDiffDensity(Xgen)"
   ]
  },
  {
   "cell_type": "code",
   "execution_count": null,
   "metadata": {},
   "outputs": [],
   "source": [
    "plot(X, Y/max(Y), label=r'given density')\n",
    "xlabel('x')\n",
    "ylabel('normalized density')\n",
    "plot(Xgen, [0]*len(Xgen), 'o', label=r'generated points')\n",
    "plot(dX, dDens/max(dDens), 'x', label=r'\\parbox{4cm}{density reconstructed from point-distance}')\n",
    "legend()"
   ]
  },
  {
   "cell_type": "code",
   "execution_count": null,
   "metadata": {},
   "outputs": [],
   "source": [
    "rmsErr = sqrt(mean([abs((Y/max(Y))[argmin(abs(X-x))]-y)**2 for x,y in zip(dX, dDens/max(dDens))]))\n",
    "print(rmsErr)\n",
    "assert rmsErr < 3e-2"
   ]
  },
  {
   "cell_type": "markdown",
   "metadata": {},
   "source": [
    "### same with more points"
   ]
  },
  {
   "cell_type": "code",
   "execution_count": null,
   "metadata": {},
   "outputs": [],
   "source": [
    "X = linspace(-1, 5, 500)\n",
    "Y = exp(-5*X**2) + 0.7*exp(-5*(X-2)**2)\n",
    "Xgen = generatePointsWithGivenDensity1D(density=(X,Y), N=90)\n",
    "dX, dDens = calcDiffDensity(Xgen)"
   ]
  },
  {
   "cell_type": "code",
   "execution_count": null,
   "metadata": {},
   "outputs": [],
   "source": [
    "plot(X, Y/max(Y), label=r'given density')\n",
    "xlabel('x')\n",
    "ylabel('normalized density')\n",
    "plot(Xgen, [0]*len(Xgen), 'o', label=r'generated points')\n",
    "plot(dX, dDens/max(dDens), 'x', label=r'\\parbox{4cm}{density reconstructed from point-distance}')\n",
    "legend()"
   ]
  },
  {
   "cell_type": "code",
   "execution_count": null,
   "metadata": {},
   "outputs": [],
   "source": [
    "rmsErr = sqrt(mean([abs((Y/max(Y))[argmin(abs(X-x))]-y)**2 for x,y in zip(dX, dDens/max(dDens))]))\n",
    "print(rmsErr)\n",
    "assert rmsErr < 1e-2"
   ]
  }
 ],
 "metadata": {},
 "nbformat": 4,
 "nbformat_minor": 2
}