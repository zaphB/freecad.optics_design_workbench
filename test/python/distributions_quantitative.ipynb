{
 "cells": [
  {
   "cell_type": "code",
   "execution_count": null,
   "metadata": {},
   "outputs": [],
   "source": [
    "from matplotlib.pyplot import *\n",
    "from numpy import *\n",
    "import numpy.random as npr\n",
    "rcParams['text.usetex'] = True"
   ]
  },
  {
   "cell_type": "code",
   "execution_count": null,
   "metadata": {},
   "outputs": [],
   "source": [
    "from optics_design_workbench import distributions\n",
    "from optics_design_workbench.distributions import *"
   ]
  },
  {
   "cell_type": "markdown",
   "metadata": {},
   "source": [
    "# test scalar random number generator"
   ]
  },
  {
   "cell_type": "code",
   "execution_count": null,
   "metadata": {},
   "outputs": [],
   "source": [
    "for disableAnalytical in (True, False):\n",
    "  figure(figsize=(3,3))\n",
    "\n",
    "  for expect, expr, domain in [\n",
    "    (lambda x: x**2, 'x**2', (0, 10)),\n",
    "    (lambda x: 0.5*x+cos(x), 'x/2+cos(x)', (0, 4*pi)),\n",
    "    (lambda x: exp(-(x-3)**2), 'exp(-(x-3)**2)', (1, 5)),\n",
    "  ]:\n",
    "    x = distributions.ScalarRandomVariable(expr, variableDomain=domain)\n",
    "    x.compile(disableAnalytical=disableAnalytical)\n",
    "    print(f'expr {expr} mode: {x.mode()}')\n",
    "    H, bins = histogram(x.draw(1e6), bins=50)\n",
    "    bins = (bins[1:]+bins[:-1])/2\n",
    "    Hexpect = expect(bins)\n",
    "    Hexpect /= Hexpect.max()\n",
    "    H = H/H.max()\n",
    "    plot(bins, H, 'x')\n",
    "    plot(bins, Hexpect)\n",
    "    err = sqrt(mean( ((Hexpect-H)/H.max())**2 ))\n",
    "    print(f'{err=}')\n",
    "    assert err < 3e-2"
   ]
  },
  {
   "cell_type": "markdown",
   "metadata": {},
   "source": [
    "# test vector random number generator"
   ]
  },
  {
   "cell_type": "code",
   "execution_count": null,
   "metadata": {},
   "outputs": [],
   "source": [
    "import scipy\n",
    "scipy.special.erfinv(0.99999)"
   ]
  },
  {
   "cell_type": "code",
   "execution_count": null,
   "metadata": {},
   "outputs": [],
   "source": [
    "x = distributions.VectorRandomVariable('exp(-theta**2)', variableDomains=dict(theta=(0,pi), phi=(0,2*pi)))\n",
    "x.compile()\n",
    "x.showExpressions()\n",
    "x.draw()"
   ]
  },
  {
   "cell_type": "code",
   "execution_count": null,
   "metadata": {},
   "outputs": [],
   "source": [
    "for disableAnalytical in (True, False):\n",
    "  for expect, expr, order, domain in [\n",
    "    (lambda x, y: exp(-(x**2 + y**2)), 'exp(-(x**2 + y**2))', ['x', 'y'], dict(x=(-1,2), y=(-3,2))),\n",
    "    (lambda x, y: exp(-x**2), 'exp(-theta**2)', ['theta', 'phi'], dict(theta=(0,pi), phi=(0,2*pi))),\n",
    "    (lambda x, y: exp(-x**2/(1+y/3)**2), 'exp(-theta**2/(1+phi/3)**2)', ['theta', 'phi'], dict(theta=(0,pi), phi=(0,2*pi))),\n",
    "  ]:\n",
    "    x = distributions.VectorRandomVariable(expr, variableDomains=domain, variableOrder=order)\n",
    "    x.compile(disableAnalytical=disableAnalytical)\n",
    "    print(f'expr {expr} mode: {x.mode()}')\n",
    "    #x.showExpressions()\n",
    "\n",
    "    H, binsX, binsY = histogram2d(*x.draw(1e6), bins=(50, 55))\n",
    "    figure(figsize=(3,3))\n",
    "    pcolormesh(binsX, binsY, H.T)\n",
    "    xlabel(order[0])\n",
    "    ylabel(order[1])\n",
    "\n",
    "    X = (binsX[1:]+binsX[:-1])/2\n",
    "    Y = (binsY[1:]+binsY[:-1])/2\n",
    "    Hexpect = expect(*meshgrid(X, Y))\n",
    "    figure(figsize=(3,3))\n",
    "    pcolormesh(binsX, binsY, Hexpect)\n",
    "    xlabel(order[0])\n",
    "    ylabel(order[1])\n",
    "\n",
    "    err = sqrt(mean( ((Hexpect/Hexpect.max()-H.T/H.max()))**2 ))\n",
    "    print(err)\n",
    "    show()\n",
    "    assert err < 0.1"
   ]
  },
  {
   "cell_type": "markdown",
   "metadata": {},
   "source": [
    "# test inner lambdas and their symmetry"
   ]
  },
  {
   "cell_type": "code",
   "execution_count": null,
   "metadata": {},
   "outputs": [],
   "source": [
    "x = distributions.VectorRandomVariable(\n",
    "      '.25-(x-.5)**2 + .02*y', \n",
    "      variableOrder=['y', 'x'], \n",
    "      variableDomains=dict(x=(0,1), y=(0,3)),\n",
    "      numericalResolutions=dict(x=7, y=9))\n",
    "x.compile(disableAnalytical=True)\n",
    "x._variables"
   ]
  },
  {
   "cell_type": "code",
   "execution_count": null,
   "metadata": {},
   "outputs": [],
   "source": [
    "x.draw(N=5)"
   ]
  },
  {
   "cell_type": "code",
   "execution_count": null,
   "metadata": {},
   "outputs": [],
   "source": [
    "H, binsX, binsY = histogram2d(*x.draw(1e5), bins=(55, 45))\n",
    "pcolormesh(binsX, binsY, H.T)"
   ]
  },
  {
   "cell_type": "code",
   "execution_count": null,
   "metadata": {},
   "outputs": [],
   "source": [
    "# make sure desired variable order was respected\n",
    "assert [str(v) for v in x._variables] == ['y', 'x']"
   ]
  },
  {
   "cell_type": "code",
   "execution_count": null,
   "metadata": {},
   "outputs": [],
   "source": [
    "# ensure symmetry of transfer function for y variable\n",
    "X = linspace(0, 1, 100)\n",
    "Y = x._transformLambdas[1][0](X)\n",
    "plot(X, Y)\n",
    "plot(1-X, max(Y)-Y)\n",
    "\n",
    "err = sqrt(mean( (Y - (max(Y)-Y[::-1]))**2 ))\n",
    "err"
   ]
  },
  {
   "cell_type": "code",
   "execution_count": null,
   "metadata": {},
   "outputs": [],
   "source": [
    "assert err < 1e-5"
   ]
  },
  {
   "cell_type": "code",
   "execution_count": null,
   "metadata": {},
   "outputs": [],
   "source": [
    "# x variable function is not symmetric\n",
    "X = linspace(0, 1, 100)\n",
    "plot(X, x._transformLambdas[0][0](X, 1 + 0*X))"
   ]
  },
  {
   "cell_type": "code",
   "execution_count": null,
   "metadata": {},
   "outputs": [],
   "source": []
  }
 ],
 "metadata": {},
 "nbformat": 4,
 "nbformat_minor": 2
}