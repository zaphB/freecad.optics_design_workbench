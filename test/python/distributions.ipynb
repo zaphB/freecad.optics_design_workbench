{
 "cells": [
  {
   "cell_type": "code",
   "execution_count": null,
   "metadata": {},
   "outputs": [],
   "source": [
    "from matplotlib.pyplot import *\n",
    "from numpy import *\n",
    "import numpy.random as npr\n",
    "rcParams['text.usetex'] = True"
   ]
  },
  {
   "cell_type": "code",
   "execution_count": null,
   "metadata": {},
   "outputs": [],
   "source": [
    "from freecad.optics_design_workbench import distributions\n",
    "from freecad.optics_design_workbench.distributions import *"
   ]
  },
  {
   "cell_type": "markdown",
   "metadata": {},
   "source": [
    "# Test random sample generators for given distribution function (true random)"
   ]
  },
  {
   "cell_type": "markdown",
   "metadata": {},
   "source": [
    "### test standard gaussian"
   ]
  },
  {
   "cell_type": "code",
   "execution_count": null,
   "metadata": {},
   "outputs": [],
   "source": [
    "v = distributions.VectorRandomVariable(\n",
    "          probabilityDensity='exp(-(theta/sigma)**2)',\n",
    "          variables=['theta', 'phi'],\n",
    "          variableDomains=[(0, inf), (0, 2*pi)])"
   ]
  },
  {
   "cell_type": "code",
   "execution_count": null,
   "metadata": {},
   "outputs": [],
   "source": [
    "v.compile(sigma=.1)"
   ]
  },
  {
   "cell_type": "code",
   "execution_count": null,
   "metadata": {},
   "outputs": [],
   "source": [
    "v.showExpressions()"
   ]
  },
  {
   "cell_type": "code",
   "execution_count": null,
   "metadata": {},
   "outputs": [],
   "source": [
    "v.mode()"
   ]
  },
  {
   "cell_type": "code",
   "execution_count": null,
   "metadata": {},
   "outputs": [],
   "source": [
    "%%time\n",
    "# draw one true random sample\n",
    "v.draw()"
   ]
  },
  {
   "cell_type": "code",
   "execution_count": null,
   "metadata": {},
   "outputs": [],
   "source": [
    "%%time\n",
    "# draw true random samples\n",
    "v.draw(N=10)"
   ]
  },
  {
   "cell_type": "code",
   "execution_count": null,
   "metadata": {},
   "outputs": [],
   "source": [
    "%%time\n",
    "# draw true random samples\n",
    "thetas, phis = v.draw(N=500)"
   ]
  },
  {
   "cell_type": "code",
   "execution_count": null,
   "metadata": {},
   "outputs": [],
   "source": [
    "# draw random samples that match mean expected histogram as well as possible\n",
    "#v.drawPseudo(N=10, rerollCount=10)"
   ]
  },
  {
   "cell_type": "code",
   "execution_count": null,
   "metadata": {},
   "outputs": [],
   "source": [
    "# make mesh with point spacings approximating the inverse probability density as well as possible \n",
    "#v.mesh1D(meshVar='theta', otherVars=dict(phi=(0, pi/3, 2*pi/3)))"
   ]
  },
  {
   "cell_type": "code",
   "execution_count": null,
   "metadata": {},
   "outputs": [],
   "source": [
    "# make mesh with triangle areas approximating the inverse probability density as well as possible\n",
    "#v.mesh2D(meshVars=('theta', 'phi'), othervars={})"
   ]
  },
  {
   "cell_type": "markdown",
   "metadata": {},
   "source": [
    "### test top hat"
   ]
  },
  {
   "cell_type": "code",
   "execution_count": null,
   "metadata": {},
   "outputs": [],
   "source": [
    "gen = distributions.VectorRandomVariable(\n",
    "          probabilityDensity='1',\n",
    "          variables=['theta', 'phi'],\n",
    "          numericalResolutions=[100, 10],\n",
    "          variableDomains=[(0, 0.1), (0, 2*pi)])"
   ]
  },
  {
   "cell_type": "code",
   "execution_count": null,
   "metadata": {},
   "outputs": [],
   "source": [
    "gen.compile()\n",
    "gen.showExpressions()"
   ]
  },
  {
   "cell_type": "code",
   "execution_count": null,
   "metadata": {},
   "outputs": [],
   "source": [
    "gen.draw()"
   ]
  },
  {
   "cell_type": "markdown",
   "metadata": {},
   "source": [
    "### test negative probability density"
   ]
  },
  {
   "cell_type": "code",
   "execution_count": null,
   "metadata": {},
   "outputs": [],
   "source": [
    "gen = distributions.VectorRandomVariable(\n",
    "          probabilityDensity='cos(phi)',\n",
    "          variables=['theta', 'phi'],\n",
    "          variableDomains=[(0, pi), (0, 2*pi)])"
   ]
  },
  {
   "cell_type": "code",
   "execution_count": null,
   "metadata": {},
   "outputs": [],
   "source": [
    "gen.compile()"
   ]
  },
  {
   "cell_type": "code",
   "execution_count": null,
   "metadata": {},
   "outputs": [],
   "source": [
    "gen.showExpressions()"
   ]
  },
  {
   "cell_type": "code",
   "execution_count": null,
   "metadata": {},
   "outputs": [],
   "source": [
    "gen.draw()"
   ]
  },
  {
   "cell_type": "markdown",
   "metadata": {},
   "source": [
    "### test offset cosine"
   ]
  },
  {
   "cell_type": "code",
   "execution_count": null,
   "metadata": {},
   "outputs": [],
   "source": [
    "x = distributions.ScalarRandomVariable('cos(x)+2', 'x', (0,pi))"
   ]
  },
  {
   "cell_type": "code",
   "execution_count": null,
   "metadata": {},
   "outputs": [],
   "source": [
    "x.compile()"
   ]
  },
  {
   "cell_type": "code",
   "execution_count": null,
   "metadata": {},
   "outputs": [],
   "source": []
  },
  {
   "cell_type": "code",
   "execution_count": null,
   "metadata": {},
   "outputs": [],
   "source": []
  },
  {
   "cell_type": "markdown",
   "metadata": {},
   "source": [
    "### test elliptical gaussian"
   ]
  },
  {
   "cell_type": "code",
   "execution_count": null,
   "metadata": {},
   "outputs": [],
   "source": [
    "gen = distributions.VectorRandomVariable(\n",
    "          probabilityDensity='exp(-(theta/(sigma*(1+0.5*cos(phi + pi/3))))**2)',\n",
    "          variables=['theta', 'phi'],\n",
    "          variableDomains=[(0, pi), (0, 2*pi)])"
   ]
  },
  {
   "cell_type": "code",
   "execution_count": null,
   "metadata": {},
   "outputs": [],
   "source": [
    "gen.compile()"
   ]
  },
  {
   "cell_type": "code",
   "execution_count": null,
   "metadata": {},
   "outputs": [],
   "source": []
  },
  {
   "cell_type": "code",
   "execution_count": null,
   "metadata": {},
   "outputs": [],
   "source": []
  },
  {
   "cell_type": "code",
   "execution_count": null,
   "metadata": {},
   "outputs": [],
   "source": []
  },
  {
   "cell_type": "code",
   "execution_count": null,
   "metadata": {},
   "outputs": [],
   "source": [
    "import sympy as sy\n",
    "import signal"
   ]
  },
  {
   "cell_type": "code",
   "execution_count": null,
   "metadata": {},
   "outputs": [],
   "source": [
    "def handler(sig, n):\n",
    "  print('jo')\n",
    "  raise ValueError('bre')"
   ]
  },
  {
   "cell_type": "code",
   "execution_count": null,
   "metadata": {},
   "outputs": [],
   "source": [
    "signal.signal(signal.SIGALRM, handler)"
   ]
  },
  {
   "cell_type": "code",
   "execution_count": null,
   "metadata": {},
   "outputs": [],
   "source": [
    "#expr = sy.sympify('(sin(10*theta)/theta)^2')\n",
    "#expr = sy.sympify('exp(-theta**2)') + sy.sympify('exp(-.1*theta**2)')\n",
    "#expr = sy.sympify('Piecewise((1, abs(theta)<1), (0,True))')\n",
    "#expr = sy.sympify('1/(1+abs(theta)**2)')\n",
    "expr = sy.sympify('1/theta')"
   ]
  },
  {
   "cell_type": "code",
   "execution_count": null,
   "metadata": {},
   "outputs": [],
   "source": [
    "l1, l2 = 1e-9, 2\n",
    "l1, l2 = -sy.oo, sy.oo"
   ]
  },
  {
   "cell_type": "code",
   "execution_count": null,
   "metadata": {},
   "outputs": [],
   "source": [
    "expr"
   ]
  },
  {
   "cell_type": "code",
   "execution_count": null,
   "metadata": {},
   "outputs": [],
   "source": [
    "var = list(expr.free_symbols)[0]"
   ]
  },
  {
   "cell_type": "code",
   "execution_count": null,
   "metadata": {},
   "outputs": [],
   "source": [
    "x, y = sy.symbols('x y', real=True, positive=True)"
   ]
  },
  {
   "cell_type": "code",
   "execution_count": null,
   "metadata": {},
   "outputs": [],
   "source": [
    "sy.Integral(expr, (var,l1,x)).doit()"
   ]
  },
  {
   "cell_type": "code",
   "execution_count": null,
   "metadata": {},
   "outputs": [],
   "source": [
    "sy.Integral(expr, (var,l1,l2)).doit()"
   ]
  },
  {
   "cell_type": "code",
   "execution_count": null,
   "metadata": {},
   "outputs": [],
   "source": [
    "integr = sy.Integral(expr, (var,l1,x)).doit() / sy.Integral(expr, (var,l1,l2)).doit()"
   ]
  },
  {
   "cell_type": "code",
   "execution_count": null,
   "metadata": {},
   "outputs": [],
   "source": [
    "integr"
   ]
  },
  {
   "cell_type": "code",
   "execution_count": null,
   "metadata": {},
   "outputs": [],
   "source": [
    "signal.alarm(3)\n",
    "Y = sy.solve(sy.Eq(integr, y), x)[0]"
   ]
  },
  {
   "cell_type": "code",
   "execution_count": null,
   "metadata": {},
   "outputs": [],
   "source": [
    "Y"
   ]
  },
  {
   "cell_type": "code",
   "execution_count": null,
   "metadata": {},
   "outputs": [],
   "source": [
    "Yl = sy.lambdify(y, Y)"
   ]
  },
  {
   "cell_type": "code",
   "execution_count": null,
   "metadata": {},
   "outputs": [],
   "source": [
    "Yl(3)"
   ]
  },
  {
   "cell_type": "code",
   "execution_count": null,
   "metadata": {},
   "outputs": [],
   "source": [
    "i = linspace(0, 1, 30000)\n",
    "I = Yl(i)"
   ]
  },
  {
   "cell_type": "code",
   "execution_count": null,
   "metadata": {},
   "outputs": [],
   "source": [
    "plot(i, I)"
   ]
  },
  {
   "cell_type": "markdown",
   "metadata": {},
   "source": [
    "# Test random sample generators for given distribution function (pseudo random)"
   ]
  },
  {
   "cell_type": "code",
   "execution_count": null,
   "metadata": {},
   "outputs": [],
   "source": []
  },
  {
   "cell_type": "code",
   "execution_count": null,
   "metadata": {},
   "outputs": [],
   "source": []
  },
  {
   "cell_type": "code",
   "execution_count": null,
   "metadata": {},
   "outputs": [],
   "source": []
  },
  {
   "cell_type": "code",
   "execution_count": null,
   "metadata": {},
   "outputs": [],
   "source": []
  },
  {
   "cell_type": "markdown",
   "metadata": {},
   "source": [
    "# Test 1D point generators for given densities (ray fans)"
   ]
  },
  {
   "cell_type": "code",
   "execution_count": null,
   "metadata": {},
   "outputs": [],
   "source": [
    "Xrand = npr.normal(5, 1, size=150)\n",
    "hX, hDensity = calcHistDensity(Xrand)\n",
    "dX, dDensity = calcDiffDensity(Xrand)\n",
    "plot(hX, hDensity, '.')\n",
    "plot(dX, dDensity, '.')\n",
    "xlabel('x')\n",
    "ylabel('density')"
   ]
  },
  {
   "cell_type": "markdown",
   "metadata": {},
   "source": [
    "### Gaussian"
   ]
  },
  {
   "cell_type": "code",
   "execution_count": null,
   "metadata": {},
   "outputs": [],
   "source": [
    "X = linspace(-1, 2, 500)\n",
    "Y = exp(-5*X**2)\n",
    "Xgen = generatePointsWithGivenDensity1D(density=(X,Y), N=20)\n",
    "dX, dDens = calcDiffDensity(Xgen)"
   ]
  },
  {
   "cell_type": "code",
   "execution_count": null,
   "metadata": {},
   "outputs": [],
   "source": [
    "plot(X, Y/max(Y), label=r'beliebige Verteilungsfunktion\\\\als X,Y arrays angegeben')\n",
    "xlabel('x')\n",
    "ylabel('normierte Dichte')\n",
    "plot(Xgen, [0]*len(Xgen), 'o', label=r'platzierte Punkte')\n",
    "plot(dX, dDens/max(dDens), 'x', label=r'aus den Punktabst\\\"anden\\\\bestimmte Dichte')\n",
    "legend()\n",
    "#io.savefig('~/Desktop/gaussian-platzierung.jpg')"
   ]
  },
  {
   "cell_type": "code",
   "execution_count": null,
   "metadata": {},
   "outputs": [],
   "source": [
    "rmsErr = sqrt(mean([abs((Y/max(Y))[argmin(abs(X-x))]-y)**2 for x,y in zip(dX, dDens/max(dDens))]))\n",
    "print(rmsErr)\n",
    "assert rmsErr < 1e-2"
   ]
  },
  {
   "cell_type": "markdown",
   "metadata": {},
   "source": [
    "### Tophat"
   ]
  },
  {
   "cell_type": "code",
   "execution_count": null,
   "metadata": {},
   "outputs": [],
   "source": [
    "X = linspace(-1, 2, 500)\n",
    "Y = arctan( 1e5 * ( exp(-5*X**2) - .5 ) )/pi + .5\n",
    "Xgen = generatePointsWithGivenDensity1D(density=(X,Y), N=10)\n",
    "dX, dDens = calcDiffDensity(Xgen)"
   ]
  },
  {
   "cell_type": "code",
   "execution_count": null,
   "metadata": {},
   "outputs": [],
   "source": [
    "plot(X, Y/max(Y), label=r'given density')\n",
    "xlabel('x')\n",
    "ylabel('normalized density')\n",
    "plot(Xgen, [0]*len(Xgen), 'o', label=r'generated points')\n",
    "plot(dX, dDens/max(dDens), 'x', label=r'\\parbox{4cm}{density reconstructed from point-distance}')\n",
    "legend()"
   ]
  },
  {
   "cell_type": "code",
   "execution_count": null,
   "metadata": {},
   "outputs": [],
   "source": [
    "rmsErr = sqrt(mean([abs((Y/max(Y))[argmin(abs(X-x))]-y)**2 for x,y in zip(dX, dDens/max(dDens))]))\n",
    "print(rmsErr)\n",
    "assert rmsErr < 1e-5"
   ]
  },
  {
   "cell_type": "markdown",
   "metadata": {},
   "source": [
    "### tests distorted gaussian"
   ]
  },
  {
   "cell_type": "code",
   "execution_count": null,
   "metadata": {},
   "outputs": [],
   "source": [
    "X = linspace(-1, 3, 500)\n",
    "Y = arctan( 20*exp(-5*X**2) ) * (1+X)\n",
    "Xgen = generatePointsWithGivenDensity1D(density=(X,Y), N=25)\n",
    "dX, dDens = calcDiffDensity(Xgen)"
   ]
  },
  {
   "cell_type": "code",
   "execution_count": null,
   "metadata": {},
   "outputs": [],
   "source": [
    "plot(X, Y/max(Y), label=r'given density')\n",
    "xlabel('x')\n",
    "ylabel('normalized density')\n",
    "plot(Xgen, [0]*len(Xgen), 'o', label=r'generated points')\n",
    "plot(dX, dDens/max(dDens), 'x', label=r'\\parbox{4cm}{density reconstructed from point-distance}')\n",
    "legend()"
   ]
  },
  {
   "cell_type": "code",
   "execution_count": null,
   "metadata": {},
   "outputs": [],
   "source": [
    "rmsErr = sqrt(mean([abs((Y/max(Y))[argmin(abs(X-x))]-y)**2 for x,y in zip(dX, dDens/max(dDens))]))\n",
    "print(rmsErr)\n",
    "assert rmsErr < 1e-2"
   ]
  },
  {
   "cell_type": "markdown",
   "metadata": {},
   "source": [
    "### Test distribution with multiple maxima"
   ]
  },
  {
   "cell_type": "code",
   "execution_count": null,
   "metadata": {},
   "outputs": [],
   "source": [
    "X = linspace(-1, 5, 500)\n",
    "Y = exp(-5*X**2) + 0.7*exp(-5*(X-2)**2) \n",
    "Xgen = generatePointsWithGivenDensity1D(density=(X,Y), N=30)\n",
    "dX, dDens = calcDiffDensity(Xgen)"
   ]
  },
  {
   "cell_type": "code",
   "execution_count": null,
   "metadata": {},
   "outputs": [],
   "source": [
    "plot(X, Y/max(Y), label=r'given density')\n",
    "xlabel('x')\n",
    "ylabel('normalized density')\n",
    "plot(Xgen, [0]*len(Xgen), 'o', label=r'generated points')\n",
    "plot(dX, dDens/max(dDens), 'x', label=r'\\parbox{4cm}{density reconstructed from point-distance}')\n",
    "legend()"
   ]
  },
  {
   "cell_type": "code",
   "execution_count": null,
   "metadata": {},
   "outputs": [],
   "source": [
    "rmsErr = sqrt(mean([abs((Y/max(Y))[argmin(abs(X-x))]-y)**2 for x,y in zip(dX, dDens/max(dDens))]))\n",
    "print(rmsErr)\n",
    "assert rmsErr < 3e-2"
   ]
  },
  {
   "cell_type": "markdown",
   "metadata": {},
   "source": [
    "### same with more points"
   ]
  },
  {
   "cell_type": "code",
   "execution_count": null,
   "metadata": {},
   "outputs": [],
   "source": [
    "X = linspace(-1, 5, 500)\n",
    "Y = exp(-5*X**2) + 0.7*exp(-5*(X-2)**2)\n",
    "Xgen = generatePointsWithGivenDensity1D(density=(X,Y), N=90)\n",
    "dX, dDens = calcDiffDensity(Xgen)"
   ]
  },
  {
   "cell_type": "code",
   "execution_count": null,
   "metadata": {},
   "outputs": [],
   "source": [
    "plot(X, Y/max(Y), label=r'given density')\n",
    "xlabel('x')\n",
    "ylabel('normalized density')\n",
    "plot(Xgen, [0]*len(Xgen), 'o', label=r'generated points')\n",
    "plot(dX, dDens/max(dDens), 'x', label=r'\\parbox{4cm}{density reconstructed from point-distance}')\n",
    "legend()"
   ]
  },
  {
   "cell_type": "code",
   "execution_count": null,
   "metadata": {},
   "outputs": [],
   "source": [
    "rmsErr = sqrt(mean([abs((Y/max(Y))[argmin(abs(X-x))]-y)**2 for x,y in zip(dX, dDens/max(dDens))]))\n",
    "print(rmsErr)\n",
    "assert rmsErr < 1e-2"
   ]
  },
  {
   "cell_type": "code",
   "execution_count": null,
   "metadata": {},
   "outputs": [],
   "source": []
  }
 ],
 "metadata": {},
 "nbformat": 4,
 "nbformat_minor": 2
}