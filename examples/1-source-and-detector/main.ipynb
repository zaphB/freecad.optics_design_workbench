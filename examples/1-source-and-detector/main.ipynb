{
 "cells": [
  {
   "cell_type": "code",
   "execution_count": null,
   "metadata": {},
   "outputs": [],
   "source": [
    "from numpy import *\n",
    "from matplotlib.pyplot import *\n",
    "import pickle\n",
    "import os"
   ]
  },
  {
   "cell_type": "markdown",
   "metadata": {},
   "source": [
    "# Loading the data\n",
    "\n",
    "The simulation workers dump their results to disk every few seconds. To load all the results from a simulation, we have to unpickle all relevant pkl files. Here we assemble all found ray hit coordinates in the `allPoints` array:"
   ]
  },
  {
   "cell_type": "code",
   "execution_count": null,
   "metadata": {},
   "outputs": [],
   "source": [
    "allPoints = None\n",
    "for r, ds, fs in os.walk('main.opticalSimulationResults/run-0000-raw'):\n",
    "  for f in fs:\n",
    "    if f.endswith('.pkl'):\n",
    "      with open(f'{r}/{f}', 'rb') as _f:\n",
    "        blob = pickle.load(_f)\n",
    "        allPoints = concatenate([allPoints, blob['points']]) if allPoints is not None else blob['points']"
   ]
  },
  {
   "cell_type": "code",
   "execution_count": null,
   "metadata": {},
   "outputs": [],
   "source": [
    "allPoints.shape"
   ]
  },
  {
   "cell_type": "markdown",
   "metadata": {},
   "source": [
    "# Plot the results\n",
    "\n",
    "After loading the data, we can apply any data analysis tools to visualize or further analyze the data. For example we can plot a 2d histogram of the X and Y coordinates:"
   ]
  },
  {
   "cell_type": "code",
   "execution_count": null,
   "metadata": {},
   "outputs": [],
   "source": [
    "hist2d(*allPoints[:,:2].T, bins=30);"
   ]
  }
 ],
 "metadata": {},
 "nbformat": 4,
 "nbformat_minor": 2
}