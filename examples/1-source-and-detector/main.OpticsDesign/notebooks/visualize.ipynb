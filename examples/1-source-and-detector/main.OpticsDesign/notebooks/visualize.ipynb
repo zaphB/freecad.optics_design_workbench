{
 "cells": [
  {
   "cell_type": "code",
   "execution_count": null,
   "metadata": {},
   "outputs": [],
   "source": [
    "import optics_design_workbench.jupyter_utils as odw"
   ]
  },
  {
   "cell_type": "markdown",
   "metadata": {},
   "source": [
    "# Loading the data\n",
    "\n",
    "The simulation workers dump their results to disk every few seconds. A new folder is created for every \"run simulation\" button press in FreeCAD. \n",
    "\n",
    "The dumped files are stored in python's pickle format. Feel free to load one manually using pickle if you are curious.\n",
    "\n",
    "The \"jupyter_utils\" module contains convenience functions to load and discover the folders:  "
   ]
  },
  {
   "cell_type": "code",
   "execution_count": null,
   "metadata": {},
   "outputs": [],
   "source": [
    "# show all run folders in current project\n",
    "odw.rawFolders().paths()"
   ]
  },
  {
   "cell_type": "code",
   "execution_count": null,
   "metadata": {},
   "outputs": [],
   "source": [
    "# load all hit files of latest run\n",
    "latest = odw.latestRawFolder().loadHits()"
   ]
  },
  {
   "cell_type": "code",
   "execution_count": null,
   "metadata": {},
   "outputs": [],
   "source": [
    "# the \"hits\" attribute holds all stored data in dictionary form:\n",
    "latest.hits"
   ]
  },
  {
   "cell_type": "code",
   "execution_count": null,
   "metadata": {},
   "outputs": [],
   "source": [
    "# array with all absorber hit points\n",
    "latest.hits['points']"
   ]
  },
  {
   "cell_type": "markdown",
   "metadata": {},
   "source": [
    "# Analyze and plot the results\n",
    "\n",
    "Of course any numpy/scipy/pandas or other tools can now be fed with the data arrays. Projection to the detector plane and shortcuts for histogram calculations are included in the Hit objects methods:"
   ]
  },
  {
   "cell_type": "code",
   "execution_count": null,
   "metadata": {},
   "outputs": [],
   "source": [
    "# detect detector plane normal\n",
    "latest.planeProject3dPoints()"
   ]
  },
  {
   "cell_type": "code",
   "execution_count": null,
   "metadata": {},
   "outputs": [],
   "source": [
    "# generate and plot simple histogram\n",
    "latest.histogram(bins=(10,10)).plot()"
   ]
  }
 ],
 "metadata": {},
 "nbformat": 4,
 "nbformat_minor": 2
}