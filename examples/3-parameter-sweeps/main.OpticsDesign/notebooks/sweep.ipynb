{
 "cells": [
  {
   "cell_type": "code",
   "execution_count": null,
   "metadata": {},
   "outputs": [],
   "source": [
    "from numpy import *\n",
    "from matplotlib.pyplot import *\n",
    "import scipy\n",
    "\n",
    "from optics_design_workbench import jupyter_utils"
   ]
  },
  {
   "cell_type": "markdown",
   "metadata": {},
   "source": [
    "# Open FreeCAD Gui if desired"
   ]
  },
  {
   "cell_type": "code",
   "execution_count": null,
   "metadata": {},
   "outputs": [],
   "source": [
    "# prefer using this cell to open the FreeCAD Gui. This call is blocking\n",
    "# until FreeCAD is closed again, which helps to avoid editing a FCStd \n",
    "# file from jupyter and the FreeCAD Gui in parallel.\n",
    "\n",
    "jupyter_utils.openFreecadGui()"
   ]
  },
  {
   "cell_type": "markdown",
   "metadata": {},
   "source": [
    "# Run simulations for various lens radii"
   ]
  },
  {
   "cell_type": "code",
   "execution_count": null,
   "metadata": {},
   "outputs": [],
   "source": [
    "simulationMode = 'true'\n",
    "#simulationMode = 'fans'"
   ]
  },
  {
   "cell_type": "code",
   "execution_count": null,
   "metadata": {},
   "outputs": [],
   "source": [
    "# prepare arrays/lists for parameters/results\n",
    "radii = linspace(36, 58, 20)\n",
    "results = []\n",
    "\n",
    "# open FCStd Document as a context manager. The context manager makes sure\n",
    "# the file is closed again with certainty. Keep in mind that if the file is\n",
    "# open in another FreeCAD GUI, saving from the Gui will overwrite the file\n",
    "# and may leads to inconsistent file versions being seen by different \n",
    "# worker processes.\n",
    "with jupyter_utils.FreecadDocument() as f:\n",
    "\n",
    "  # setup progress tracking\n",
    "  jupyter_utils.setupProgressTracker(totalSimulations=len(radii))\n",
    "\n",
    "  # try different radii\n",
    "  for rad in radii:\n",
    "\n",
    "    # update radius and placement of both spheres that form the lens\n",
    "    f.Sphere001.Radius = rad\n",
    "    f.Sphere001.Placement.Base = [0, 0, -rad/1.2]\n",
    "    f.Sphere.Radius = rad\n",
    "    f.Sphere.Placement.Base = [0, 0, rad/1.2]\n",
    "\n",
    "    # run a simulation\n",
    "    results.append( f.runSimulation(simulationMode) )\n"
   ]
  },
  {
   "cell_type": "code",
   "execution_count": null,
   "metadata": {},
   "outputs": [],
   "source": [
    "# show list of the first ten results\n",
    "results[:10]"
   ]
  },
  {
   "cell_type": "code",
   "execution_count": null,
   "metadata": {},
   "outputs": [],
   "source": [
    "# print filesystem tree overview of first result file:\n",
    "results[0].printTree()"
   ]
  },
  {
   "cell_type": "markdown",
   "metadata": {},
   "source": [
    "# Create histograms and do Gauss fit for each histogram"
   ]
  },
  {
   "cell_type": "code",
   "execution_count": null,
   "metadata": {},
   "outputs": [],
   "source": [
    "gauss = lambda X, amp, x0, sigma: amp*exp(-(X-x0)**2/sigma**2)"
   ]
  },
  {
   "cell_type": "code",
   "execution_count": null,
   "metadata": {},
   "outputs": [],
   "source": [
    "sigmas, x0s, _Hs = [], [], []\n",
    "for r in results:\n",
    "  hits = r.loadHits('*')\n",
    "  H, X, Y = jupyter_utils.planarHistogram(hits, bins=(300, 301), XY='centers') #XY='edges')\n",
    "\n",
    "  #figure(figsize=(4,4))\n",
    "  #pcolormesh(X, Y, H.T)\n",
    "  #show()\n",
    "  \n",
    "  #figure(figsize=(4,4))\n",
    "  _H = H.sum(axis=1)\n",
    "  #plot(X, _H)\n",
    "  try:\n",
    "    (amp, x0, sigma), _ = scipy.optimize.curve_fit(gauss, X, _H, p0=(max(_H), 0, 1))\n",
    "  except Exception:\n",
    "    amp, x0, sigma = nan, nan, nan\n",
    "  #plot(X, gauss(X, amp, x0, sigma))\n",
    "  #show()\n",
    "\n",
    "  sigmas.append(sigma)\n",
    "  x0s.append(x0)\n",
    "  _Hs.append(_H)\n",
    "sigmas, x0s = array(sigmas), array(x0s)"
   ]
  },
  {
   "cell_type": "code",
   "execution_count": null,
   "metadata": {},
   "outputs": [],
   "source": [
    "import matplotlib.colors as col\n",
    "_Hs = array(_Hs)\n",
    "pcolormesh(X, radii, _Hs, norm=col.Normalize(_Hs.min(), _Hs.max()/5, clip=True))\n",
    "xlabel('X coordinate')\n",
    "ylabel('lens radius')\n",
    "savefig('sweep-result.jpg')"
   ]
  },
  {
   "cell_type": "code",
   "execution_count": null,
   "metadata": {},
   "outputs": [],
   "source": [
    "plot(radii, sigmas)\n",
    "plot(radii, abs(x0s))\n",
    "xlabel('lens radius')\n",
    "ylabel('sigma (blue) and |x0| (orange)')\n",
    "semilogy()\n",
    "savefig('fit-result.jpg')"
   ]
  },
  {
   "cell_type": "markdown",
   "metadata": {},
   "source": [
    "# Write best radius to FCStd file"
   ]
  },
  {
   "cell_type": "code",
   "execution_count": null,
   "metadata": {},
   "outputs": [],
   "source": [
    "rad = radii[argmin(sigmas)]\n",
    "with jupyter_utils.FreecadDocument() as f:\n",
    "  # update radius and placement of both spheres that form the lens\n",
    "  f.Sphere001.Radius = rad\n",
    "  f.Sphere001.Placement.Base = [0, 0, -rad/1.2]\n",
    "  f.Sphere.Radius = rad\n",
    "  f.Sphere.Placement.Base = [0, 0, rad/1.2]"
   ]
  },
  {
   "cell_type": "code",
   "execution_count": null,
   "metadata": {},
   "outputs": [],
   "source": []
  }
 ],
 "metadata": {},
 "nbformat": 4,
 "nbformat_minor": 4
}